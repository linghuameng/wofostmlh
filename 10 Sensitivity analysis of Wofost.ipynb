{
 "cells": [
  {
   "cell_type": "markdown",
   "metadata": {},
   "source": [
    "<img style=\"float: right;\" src=\"data:image/png;base64,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\">\n",
    "\n"
   ]
  },
  {
   "cell_type": "markdown",
   "metadata": {},
   "source": [
    "<h1>Applying sensitivity analysis to WOFOST</h1>\n",
    "\n",
    "Sensitivity analysis is the study of how the uncertainty in the output of a mathematical model or system (numerical or otherwise) can be apportioned to different sources of uncertainty in its inputs (<a href=\"https://en.wikipedia.org/wiki/Sensitivity_analysis\">Wikipedia</a>). The sensitivity of each input is often represented by a numeric value, called the sensitivity index.\n",
    "\n",
    "In this notebook we demonstrate how to run a sensitivity analysis for the WOFOST model for a number of important parameters. The problem with WOFOST is that the sensitivity of the model can differ for different crops and regions depending on whether you are close to certain thresholds in the model. Therefore it is more useful to provide a general guideline for sensitivity analysis through this notebook rather than predefined set of sensitive parameters.\n",
    "\n",
    "A limitation of this notebook is that is only applies for the scalar parameters in WOFOST. WOFOST also has a number of tabular parameters which are defined as as a function of development stage or temperature. The sensitivity of these parameters cannot be properly analyzed with the approach used in this notebook.\n",
    "\n",
    "Below the WOFOST model is run for a sugar beet crop in the Netherlands and then sensitivity analysis is applied. The target variable for sensitivity is the total weight of the storage organs (TWSO) which represents the crop yield. However, other variables could be choosen as well such as total crop biomass or maximum leaf area index.\n",
    "\n",
    "*Steven Hoek and Allard de Wit, Wageningen Environmental Sciences, June 2020*\n",
    "\n",
    "## Dependencies for running this notebook\n",
    "This notebook require the following package to be installed:\n",
    "- [PCSE](https://pcse.readthedocs.io/en/stable/) and its dependencies (numpy, pandas, PyYAML, SQLAlchemy,...)\n",
    "- [SAlib](https://salib.readthedocs.io/en/latest/)\n",
    "- [IPython](http://ipython.org/)\n"
   ]
  },
  {
   "cell_type": "code",
   "execution_count": 1,
   "metadata": {},
   "outputs": [
    {
     "name": "stdout",
     "output_type": "stream",
     "text": [
      "This notebook was built with:\n",
      "python version: 3.8.5 (default, Sep  3 2020, 21:29:08) [MSC v.1916 64 bit (AMD64)] \n",
      "PCSE version: 5.4.2\n"
     ]
    }
   ],
   "source": [
    "import sys, os.path\n",
    "\n",
    "import yaml\n",
    "import numpy as np\n",
    "import pandas as pd\n",
    "from SALib.sample import saltelli\n",
    "from SALib.analyze import sobol\n",
    "import matplotlib.pyplot as plt\n",
    "from IPython.display import display\n",
    "pd.set_option(\"display.max_rows\", None)\n",
    "pd.set_option(\"display.max_colwidth\", 250)\n",
    "\n",
    "import pcse\n",
    "from pcse.models import Wofost71_PP\n",
    "from pcse.base import ParameterProvider\n",
    "from pcse.db import NASAPowerWeatherDataProvider\n",
    "from pcse.fileinput import YAMLCropDataProvider\n",
    "from pcse.util import WOFOST71SiteDataProvider, DummySoilDataProvider\n",
    "from progressbar import printProgressBar\n",
    "\n",
    "print(\"This notebook was built with:\")\n",
    "print(\"python version: %s \" % sys.version)\n",
    "print(\"PCSE version: %s\" %  pcse.__version__)"
   ]
  },
  {
   "cell_type": "markdown",
   "metadata": {},
   "source": [
    "## WOFOST parameters\n",
    "The table below gives an overview of important scalar WOFOST parameters related to the potential production situation."
   ]
  },
  {
   "cell_type": "code",
   "execution_count": 2,
   "metadata": {},
   "outputs": [
    {
     "data": {
      "text/html": [
       "<div>\n",
       "<style scoped>\n",
       "    .dataframe tbody tr th:only-of-type {\n",
       "        vertical-align: middle;\n",
       "    }\n",
       "\n",
       "    .dataframe tbody tr th {\n",
       "        vertical-align: top;\n",
       "    }\n",
       "\n",
       "    .dataframe thead th {\n",
       "        text-align: right;\n",
       "    }\n",
       "</style>\n",
       "<table border=\"1\" class=\"dataframe\">\n",
       "  <thead>\n",
       "    <tr style=\"text-align: right;\">\n",
       "      <th></th>\n",
       "      <th>Name</th>\n",
       "      <th>Typical Value</th>\n",
       "      <th>Category</th>\n",
       "      <th>Description</th>\n",
       "      <th>Unit</th>\n",
       "    </tr>\n",
       "  </thead>\n",
       "  <tbody>\n",
       "    <tr>\n",
       "      <th>0</th>\n",
       "      <td>CFET</td>\n",
       "      <td>1.000</td>\n",
       "      <td>Water use</td>\n",
       "      <td>correction factor for evapotranspiration</td>\n",
       "      <td>-</td>\n",
       "    </tr>\n",
       "    <tr>\n",
       "      <th>1</th>\n",
       "      <td>CVL</td>\n",
       "      <td>0.720</td>\n",
       "      <td>Conversion of assimilates into biomass</td>\n",
       "      <td>efficiency conversion of assimilates into leaf dry matter</td>\n",
       "      <td>kg / kg</td>\n",
       "    </tr>\n",
       "    <tr>\n",
       "      <th>2</th>\n",
       "      <td>CVO</td>\n",
       "      <td>0.820</td>\n",
       "      <td>Conversion of assimilates into biomass</td>\n",
       "      <td>efficiency conversion of assimilates into storage organ dry matter</td>\n",
       "      <td>kg / kg</td>\n",
       "    </tr>\n",
       "    <tr>\n",
       "      <th>3</th>\n",
       "      <td>CVR</td>\n",
       "      <td>0.720</td>\n",
       "      <td>Conversion of assimilates into biomass</td>\n",
       "      <td>efficiency conversion of assimilates into root dry matter</td>\n",
       "      <td>kg / kg</td>\n",
       "    </tr>\n",
       "    <tr>\n",
       "      <th>4</th>\n",
       "      <td>CVS</td>\n",
       "      <td>0.690</td>\n",
       "      <td>Conversion of assimilates into biomass</td>\n",
       "      <td>efficiency conversion of assimilates into stem dry matter</td>\n",
       "      <td>kg / kg</td>\n",
       "    </tr>\n",
       "    <tr>\n",
       "      <th>5</th>\n",
       "      <td>DLC</td>\n",
       "      <td>16.000</td>\n",
       "      <td>Phenology</td>\n",
       "      <td>critical day length for development (lower threshold)</td>\n",
       "      <td>hours</td>\n",
       "    </tr>\n",
       "    <tr>\n",
       "      <th>6</th>\n",
       "      <td>DLO</td>\n",
       "      <td>8.000</td>\n",
       "      <td>Phenology</td>\n",
       "      <td>optimum day length for development</td>\n",
       "      <td>hours</td>\n",
       "    </tr>\n",
       "    <tr>\n",
       "      <th>7</th>\n",
       "      <td>PERDL</td>\n",
       "      <td>0.030</td>\n",
       "      <td>Death rates</td>\n",
       "      <td>max. relative death rate of leaves due to water stress</td>\n",
       "      <td>-</td>\n",
       "    </tr>\n",
       "    <tr>\n",
       "      <th>8</th>\n",
       "      <td>Q10</td>\n",
       "      <td>2.000</td>\n",
       "      <td>Maintenance respiration</td>\n",
       "      <td>increase of the respiration rate per 10 °C temperature increase</td>\n",
       "      <td>-</td>\n",
       "    </tr>\n",
       "    <tr>\n",
       "      <th>9</th>\n",
       "      <td>RDI</td>\n",
       "      <td>10.000</td>\n",
       "      <td>Water use</td>\n",
       "      <td>initial rooting depth</td>\n",
       "      <td>cm</td>\n",
       "    </tr>\n",
       "    <tr>\n",
       "      <th>10</th>\n",
       "      <td>RDMCR</td>\n",
       "      <td>120.000</td>\n",
       "      <td>Water use</td>\n",
       "      <td>crop-dependent maximum rooting depth</td>\n",
       "      <td>cm</td>\n",
       "    </tr>\n",
       "    <tr>\n",
       "      <th>11</th>\n",
       "      <td>RGRLAI</td>\n",
       "      <td>0.016</td>\n",
       "      <td>Initial state</td>\n",
       "      <td>max. relative increase in leaf area index</td>\n",
       "      <td>day-1</td>\n",
       "    </tr>\n",
       "    <tr>\n",
       "      <th>12</th>\n",
       "      <td>RML</td>\n",
       "      <td>0.030</td>\n",
       "      <td>Maintenance respiration</td>\n",
       "      <td>maintenance respiration rate coefficient of leaves per day</td>\n",
       "      <td>day-1</td>\n",
       "    </tr>\n",
       "    <tr>\n",
       "      <th>13</th>\n",
       "      <td>RMO</td>\n",
       "      <td>0.003</td>\n",
       "      <td>Maintenance respiration</td>\n",
       "      <td>maintenance respiration rate coefficient of storage per day</td>\n",
       "      <td>day-1</td>\n",
       "    </tr>\n",
       "    <tr>\n",
       "      <th>14</th>\n",
       "      <td>RMR</td>\n",
       "      <td>0.015</td>\n",
       "      <td>Maintenance respiration</td>\n",
       "      <td>maintenance respiration rate coefficient of roots per day</td>\n",
       "      <td>day-1</td>\n",
       "    </tr>\n",
       "    <tr>\n",
       "      <th>15</th>\n",
       "      <td>RMS</td>\n",
       "      <td>0.015</td>\n",
       "      <td>Maintenance respiration</td>\n",
       "      <td>maintenance respiration rate coefficient of stems per day</td>\n",
       "      <td>day-1</td>\n",
       "    </tr>\n",
       "    <tr>\n",
       "      <th>16</th>\n",
       "      <td>SPA</td>\n",
       "      <td>0.000</td>\n",
       "      <td>Crop green area</td>\n",
       "      <td>specific pod area</td>\n",
       "      <td>ha / kg</td>\n",
       "    </tr>\n",
       "    <tr>\n",
       "      <th>17</th>\n",
       "      <td>SPAN</td>\n",
       "      <td>37.000</td>\n",
       "      <td>Crop green area</td>\n",
       "      <td>life span of leaves growing at 35 Celsius</td>\n",
       "      <td>day</td>\n",
       "    </tr>\n",
       "    <tr>\n",
       "      <th>18</th>\n",
       "      <td>TBASE</td>\n",
       "      <td>3.000</td>\n",
       "      <td>Crop green area</td>\n",
       "      <td>lower threshold temperature for physiological ageing of leaves</td>\n",
       "      <td>˚C</td>\n",
       "    </tr>\n",
       "    <tr>\n",
       "      <th>19</th>\n",
       "      <td>TBASEM</td>\n",
       "      <td>3.000</td>\n",
       "      <td>Crop green area</td>\n",
       "      <td>lower threshold temperature for emergence</td>\n",
       "      <td>˚C</td>\n",
       "    </tr>\n",
       "    <tr>\n",
       "      <th>20</th>\n",
       "      <td>TDWI</td>\n",
       "      <td>0.510</td>\n",
       "      <td>Initial state</td>\n",
       "      <td>initial total crop dry weight</td>\n",
       "      <td>kg / ha</td>\n",
       "    </tr>\n",
       "    <tr>\n",
       "      <th>21</th>\n",
       "      <td>TEFFMX</td>\n",
       "      <td>20.000</td>\n",
       "      <td>Emergence</td>\n",
       "      <td>max. effective temperature for emergence</td>\n",
       "      <td>˚C</td>\n",
       "    </tr>\n",
       "    <tr>\n",
       "      <th>22</th>\n",
       "      <td>TSUM1</td>\n",
       "      <td>800.000</td>\n",
       "      <td>Phenological development</td>\n",
       "      <td>temperature sum from emergence to anthesis</td>\n",
       "      <td>˚C day</td>\n",
       "    </tr>\n",
       "    <tr>\n",
       "      <th>23</th>\n",
       "      <td>TSUM2</td>\n",
       "      <td>1400.000</td>\n",
       "      <td>Phenological development</td>\n",
       "      <td>temperature sum from anthesis to maturity</td>\n",
       "      <td>˚C day</td>\n",
       "    </tr>\n",
       "    <tr>\n",
       "      <th>24</th>\n",
       "      <td>TSUMEM</td>\n",
       "      <td>90.000</td>\n",
       "      <td>Emergence</td>\n",
       "      <td>temperature sum from sowing to emergence</td>\n",
       "      <td>˚C day</td>\n",
       "    </tr>\n",
       "    <tr>\n",
       "      <th>25</th>\n",
       "      <td>VERNBASE</td>\n",
       "      <td>14.000</td>\n",
       "      <td>Phenological development</td>\n",
       "      <td>base vernalization requirement</td>\n",
       "      <td>day</td>\n",
       "    </tr>\n",
       "    <tr>\n",
       "      <th>26</th>\n",
       "      <td>VERNDVS</td>\n",
       "      <td>0.300</td>\n",
       "      <td>Phenological development</td>\n",
       "      <td>critical DVS for vernalization to switch off</td>\n",
       "      <td>-</td>\n",
       "    </tr>\n",
       "    <tr>\n",
       "      <th>27</th>\n",
       "      <td>VERNSAT</td>\n",
       "      <td>70.000</td>\n",
       "      <td>Phenological development</td>\n",
       "      <td>saturated vernalization requirement</td>\n",
       "      <td>day</td>\n",
       "    </tr>\n",
       "  </tbody>\n",
       "</table>\n",
       "</div>"
      ],
      "text/plain": [
       "        Name  Typical Value                                Category  \\\n",
       "0       CFET          1.000                               Water use   \n",
       "1        CVL          0.720  Conversion of assimilates into biomass   \n",
       "2        CVO          0.820  Conversion of assimilates into biomass   \n",
       "3        CVR          0.720  Conversion of assimilates into biomass   \n",
       "4        CVS          0.690  Conversion of assimilates into biomass   \n",
       "5        DLC         16.000                               Phenology   \n",
       "6        DLO          8.000                               Phenology   \n",
       "7      PERDL          0.030                             Death rates   \n",
       "8        Q10          2.000                 Maintenance respiration   \n",
       "9        RDI         10.000                               Water use   \n",
       "10     RDMCR        120.000                               Water use   \n",
       "11    RGRLAI          0.016                           Initial state   \n",
       "12       RML          0.030                 Maintenance respiration   \n",
       "13       RMO          0.003                 Maintenance respiration   \n",
       "14       RMR          0.015                 Maintenance respiration   \n",
       "15       RMS          0.015                 Maintenance respiration   \n",
       "16       SPA          0.000                         Crop green area   \n",
       "17      SPAN         37.000                         Crop green area   \n",
       "18     TBASE          3.000                         Crop green area   \n",
       "19    TBASEM          3.000                         Crop green area   \n",
       "20      TDWI          0.510                           Initial state   \n",
       "21    TEFFMX         20.000                               Emergence   \n",
       "22     TSUM1        800.000                Phenological development   \n",
       "23     TSUM2       1400.000                Phenological development   \n",
       "24    TSUMEM         90.000                               Emergence   \n",
       "25  VERNBASE         14.000                Phenological development   \n",
       "26   VERNDVS          0.300                Phenological development   \n",
       "27   VERNSAT         70.000                Phenological development   \n",
       "\n",
       "                                                           Description  \\\n",
       "0                             correction factor for evapotranspiration   \n",
       "1            efficiency conversion of assimilates into leaf dry matter   \n",
       "2   efficiency conversion of assimilates into storage organ dry matter   \n",
       "3            efficiency conversion of assimilates into root dry matter   \n",
       "4            efficiency conversion of assimilates into stem dry matter   \n",
       "5                critical day length for development (lower threshold)   \n",
       "6                                   optimum day length for development   \n",
       "7               max. relative death rate of leaves due to water stress   \n",
       "8      increase of the respiration rate per 10 °C temperature increase   \n",
       "9                                                initial rooting depth   \n",
       "10                                crop-dependent maximum rooting depth   \n",
       "11                           max. relative increase in leaf area index   \n",
       "12          maintenance respiration rate coefficient of leaves per day   \n",
       "13         maintenance respiration rate coefficient of storage per day   \n",
       "14           maintenance respiration rate coefficient of roots per day   \n",
       "15           maintenance respiration rate coefficient of stems per day   \n",
       "16                                                   specific pod area   \n",
       "17                           life span of leaves growing at 35 Celsius   \n",
       "18      lower threshold temperature for physiological ageing of leaves   \n",
       "19                           lower threshold temperature for emergence   \n",
       "20                                       initial total crop dry weight   \n",
       "21                            max. effective temperature for emergence   \n",
       "22                          temperature sum from emergence to anthesis   \n",
       "23                           temperature sum from anthesis to maturity   \n",
       "24                            temperature sum from sowing to emergence   \n",
       "25                                      base vernalization requirement   \n",
       "26                        critical DVS for vernalization to switch off   \n",
       "27                                 saturated vernalization requirement   \n",
       "\n",
       "       Unit  \n",
       "0         -  \n",
       "1   kg / kg  \n",
       "2   kg / kg  \n",
       "3   kg / kg  \n",
       "4   kg / kg  \n",
       "5     hours  \n",
       "6     hours  \n",
       "7         -  \n",
       "8         -  \n",
       "9        cm  \n",
       "10       cm  \n",
       "11    day-1  \n",
       "12    day-1  \n",
       "13    day-1  \n",
       "14    day-1  \n",
       "15    day-1  \n",
       "16  ha / kg  \n",
       "17      day  \n",
       "18       ˚C  \n",
       "19       ˚C  \n",
       "20  kg / ha  \n",
       "21       ˚C  \n",
       "22   ˚C day  \n",
       "23   ˚C day  \n",
       "24   ˚C day  \n",
       "25      day  \n",
       "26        -  \n",
       "27      day  "
      ]
     },
     "metadata": {},
     "output_type": "display_data"
    }
   ],
   "source": [
    "df = pd.read_excel(\"ScalarParametersOfWofost-Potential.xlsx\")\n",
    "display(df)"
   ]
  },
  {
   "cell_type": "markdown",
   "metadata": {},
   "source": [
    "## Settings for crop and location\n",
    "In the following, standard data are used to run the WOFOST model for sugarbeet in the Netherlands. Feel free to carry out this sensitivity analysis for a different crop and / or a different location."
   ]
  },
  {
   "cell_type": "code",
   "execution_count": 3,
   "metadata": {},
   "outputs": [],
   "source": [
    "# Define location, crop and season\n",
    "latitude = 52.0\n",
    "longitude = 5.0\n",
    "crop_name = 'sugarbeet'\n",
    "variety_name = 'Sugarbeet_601'\n",
    "campaign_start_date = '2006-01-01'\n",
    "emergence_date = \"2006-03-31\"\n",
    "harvest_date = \"2006-10-20\"\n",
    "max_duration = 300"
   ]
  },
  {
   "cell_type": "markdown",
   "metadata": {},
   "source": [
    "## Constructing the cropping calendar"
   ]
  },
  {
   "cell_type": "code",
   "execution_count": 4,
   "metadata": {},
   "outputs": [
    {
     "name": "stdout",
     "output_type": "stream",
     "text": [
      "\n",
      "- 2006-01-01:\n",
      "    CropCalendar:\n",
      "        crop_name: sugarbeet\n",
      "        variety_name: Sugarbeet_601\n",
      "        crop_start_date: 2006-03-31\n",
      "        crop_start_type: emergence\n",
      "        crop_end_date: 2006-10-20\n",
      "        crop_end_type: harvest\n",
      "        max_duration: 300\n",
      "    TimedEvents: null\n",
      "    StateEvents: null\n",
      "\n"
     ]
    }
   ],
   "source": [
    "# Here we define the agromanagement for sugar beet\n",
    "agro_yaml = \"\"\"\n",
    "- {start}:\n",
    "    CropCalendar:\n",
    "        crop_name: {cname}\n",
    "        variety_name: {vname}\n",
    "        crop_start_date: {startdate}\n",
    "        crop_start_type: emergence\n",
    "        crop_end_date: {enddate}\n",
    "        crop_end_type: harvest\n",
    "        max_duration: {maxdur}\n",
    "    TimedEvents: null\n",
    "    StateEvents: null\n",
    "\"\"\".format(cname=crop_name, vname=variety_name, \n",
    "           start=campaign_start_date, startdate=emergence_date, \n",
    "           enddate=harvest_date, maxdur=max_duration)\n",
    "agro = yaml.safe_load(agro_yaml)\n",
    "print(agro_yaml)"
   ]
  },
  {
   "cell_type": "markdown",
   "metadata": {},
   "source": [
    "## Retrieving weather input and model parameters"
   ]
  },
  {
   "cell_type": "code",
   "execution_count": 5,
   "metadata": {},
   "outputs": [],
   "source": [
    "# Weather data for Netherlands\n",
    "wdp = NASAPowerWeatherDataProvider(latitude=latitude, longitude=longitude)\n",
    "\n",
    "# Parameter sets for crop, soil and site\n",
    "# Standard crop parameter library\n",
    "cropd = YAMLCropDataProvider()\n",
    "# We don't need soil for potential production, so we use dummy values\n",
    "soild = DummySoilDataProvider()\n",
    "# Some site parameters\n",
    "sited = WOFOST71SiteDataProvider(WAV=50, CO2=360.)\n",
    "\n",
    "# Retrieve all parameters in the form of a single object. \n",
    "# In order to see all parameters for the selected crop already, we\n",
    "# synchronise data provider cropd with the crop/variety: \n",
    "firstkey = list(agro[0])[0]\n",
    "cropcalendar = agro[0][firstkey]['CropCalendar'] \n",
    "cropd.set_active_crop(cropcalendar['crop_name'], cropcalendar['variety_name'])\n",
    "params = ParameterProvider(cropdata=cropd, sitedata=sited, soildata=soild)"
   ]
  },
  {
   "cell_type": "markdown",
   "metadata": {},
   "source": [
    "## Defining the analysis\n",
    "Sensitivity analysis involves that we vary the model parameters a bit, to see how sensitive the model is to inaccuracies / variations in those values. We focus on variations in the model parameters and not on inaccuracies in driving variables usch as rainfall or temperature. \n",
    "\n",
    "In the following, intervals are defined for parameters. It is necessary to acquire knowledge of what are realistic values for the parameters which is often crop specific and region specific."
   ]
  },
  {
   "cell_type": "code",
   "execution_count": 6,
   "metadata": {},
   "outputs": [],
   "source": [
    "# Define the target variable\n",
    "target_variable = \"TWSO\"\n",
    "\n",
    "# For each scalar parameter, determine a sensible interval \n",
    "problem_yaml = \"\"\"\n",
    "    num_vars: 5\n",
    "    names: \n",
    "    - TSUM1\n",
    "    - TSUM2\n",
    "    - SPAN\n",
    "    - Q10\n",
    "    - TDWI\n",
    "    bounds:\n",
    "    - [500, 800]\n",
    "    - [1200, 1600]\n",
    "    - [28, 37]\n",
    "    - [1.8, 2.2]\n",
    "    - [0.4, 0.6]\n",
    "\"\"\"\n",
    "problem = yaml.safe_load(problem_yaml)"
   ]
  },
  {
   "cell_type": "markdown",
   "metadata": {},
   "source": [
    "## First and second order sensitivities\n",
    "When running a sensitivity analysis, we may compute first and second order sensitivities. Calculating second order sensitivities may require a large number of models runs if the number of parameters is large.\n",
    "\n",
    "In this examples we use the Saltelli sampler to sample a number of combinations of parameter values and we will derive first and second order sensitivity. The variable `nsamples` indicates the number of samples to generate, higher values will provide better estimates of sensitivity but increase computation time."
   ]
  },
  {
   "cell_type": "code",
   "execution_count": 7,
   "metadata": {},
   "outputs": [
    {
     "name": "stdout",
     "output_type": "stream",
     "text": [
      "We are going to do 600 simulations\n"
     ]
    }
   ],
   "source": [
    "calc_second_order = True\n",
    "nsamples = 50\n",
    "paramsets = saltelli.sample(problem, nsamples, calc_second_order=calc_second_order)\n",
    "print(\"We are going to do %s simulations\" % len(paramsets))"
   ]
  },
  {
   "cell_type": "markdown",
   "metadata": {},
   "source": [
    "## Running the model\n",
    "Below we are going to loop over the parameter sets sampled by the Saltelli sampler."
   ]
  },
  {
   "cell_type": "code",
   "execution_count": 8,
   "metadata": {},
   "outputs": [
    {
     "name": "stdout",
     "output_type": "stream",
     "text": [
      "Progress: |██████████████████████████████████████████████████| 100.0% Complete\n"
     ]
    }
   ],
   "source": [
    "nsets = len(paramsets)\n",
    "printProgressBar(0, nsets, prefix = 'Progress:', suffix = 'Complete', length = 50)\n",
    "\n",
    "# Loop over the samples of the parameter values and run WOFOST for each of the samples\n",
    "target_results = []\n",
    "for i, paramset in enumerate(paramsets):\n",
    "    params.clear_override()\n",
    "    for name, value in zip(problem[\"names\"], paramset):\n",
    "        params.set_override(name, value)\n",
    "    wofost = Wofost71_PP(params, wdp, agro)\n",
    "    wofost.run_till_terminate()\n",
    "    r = wofost.get_summary_output()\n",
    "    target_result = r[0][target_variable]\n",
    "    if target_result is None:\n",
    "        print(\"Target variable is not available in summary output!\")\n",
    "        break\n",
    "    target_results.append(target_result)\n",
    "    printProgressBar(i+1, nsets, prefix = 'Progress:', suffix = 'Complete', length = 50)\n",
    "\n",
    "target_results = np.array(target_results)"
   ]
  },
  {
   "cell_type": "markdown",
   "metadata": {},
   "source": [
    "# Computing sensitivity indices\n",
    "We will use the [Sobol](https://en.wikipedia.org/wiki/Variance-based_sensitivity_analysis) method to assess the response of the model to the variations in the parameters. Besides Sobol, other known methods are Morris and FAST. See also: https://salib.readthedocs.io/en/latest/."
   ]
  },
  {
   "cell_type": "code",
   "execution_count": 9,
   "metadata": {},
   "outputs": [],
   "source": [
    "# Use the Sobol method to analyse the results of the simulations\n",
    "Si = sobol.analyze(problem, target_results, calc_second_order=calc_second_order)"
   ]
  },
  {
   "cell_type": "markdown",
   "metadata": {},
   "source": [
    "## Plotting results\n",
    "After running the cell below, a chart with first order and total order sensitivity is drawn. The first order  sensitivity index for a parameter represents the fraction of the variance in the target variable caused by the variation in the input parameter. Total order indices represent the total variance in the target variable for a given parameter, including all variance caused by its interactions, of any order, with any other input variable. \n",
    "\n",
    "In many models there are statistical dependencies between parameters or physical constraints on the model. In such cases part of the variance in the output is also caused by interactions between variables which is not represented by the first order indices. In such cases, second order indices need to be calculated. If the total-order indices are substantially larger than the first-order indices, then it is likely that there are higher-order interactions occurring. It means that if both parameters are changed at the same time, it will have a large effect on the target variable.\n",
    "\n",
    "Note that indices do not necessarily add up to unity and often indices can become slightly negative due to sampling error. Such negative index values would disappear if the number of samples would be increased."
   ]
  },
  {
   "cell_type": "code",
   "execution_count": 10,
   "metadata": {},
   "outputs": [
    {
     "data": {
      "text/plain": [
       "<AxesSubplot:xlabel='Parameter'>"
      ]
     },
     "execution_count": 10,
     "metadata": {},
     "output_type": "execute_result"
    },
    {
     "data": {
      "image/png": "[encoded data removed]",
      "text/plain": [
       "<Figure size 720x432 with 1 Axes>"
      ]
     },
     "metadata": {
      "needs_background": "light"
     },
     "output_type": "display_data"
    }
   ],
   "source": [
    "df_sensitivity = pd.DataFrame({\n",
    "    \"Parameter\": problem[\"names\"],\n",
    "    \"First_order\": Si[\"S1\"],\n",
    "    \"Total_order\": Si[\"ST\"]}).set_index(\"Parameter\")\n",
    "fig, axes = plt.subplots(figsize=(10,6))\n",
    "df_sensitivity.plot(kind=\"bar\", ax=axes)"
   ]
  },
  {
   "cell_type": "markdown",
   "metadata": {},
   "source": [
    "## Second order sensitivities\n",
    "Second order sensitivities deal with the combined sensitivity of two parameters. The results can therefore most easily be visualized through a matrix "
   ]
  },
  {
   "cell_type": "code",
   "execution_count": 11,
   "metadata": {},
   "outputs": [
    {
     "data": {
      "text/html": [
       "<div>\n",
       "<style scoped>\n",
       "    .dataframe tbody tr th:only-of-type {\n",
       "        vertical-align: middle;\n",
       "    }\n",
       "\n",
       "    .dataframe tbody tr th {\n",
       "        vertical-align: top;\n",
       "    }\n",
       "\n",
       "    .dataframe thead th {\n",
       "        text-align: right;\n",
       "    }\n",
       "</style>\n",
       "<table border=\"1\" class=\"dataframe\">\n",
       "  <thead>\n",
       "    <tr style=\"text-align: right;\">\n",
       "      <th></th>\n",
       "      <th>TSUM1</th>\n",
       "      <th>TSUM2</th>\n",
       "      <th>SPAN</th>\n",
       "      <th>Q10</th>\n",
       "      <th>TDWI</th>\n",
       "    </tr>\n",
       "  </thead>\n",
       "  <tbody>\n",
       "    <tr>\n",
       "      <th>TSUM1</th>\n",
       "      <td>NaN</td>\n",
       "      <td>0.054063</td>\n",
       "      <td>0.082888</td>\n",
       "      <td>0.088671</td>\n",
       "      <td>0.086019</td>\n",
       "    </tr>\n",
       "    <tr>\n",
       "      <th>TSUM2</th>\n",
       "      <td>NaN</td>\n",
       "      <td>NaN</td>\n",
       "      <td>0.080061</td>\n",
       "      <td>0.043810</td>\n",
       "      <td>0.052251</td>\n",
       "    </tr>\n",
       "    <tr>\n",
       "      <th>SPAN</th>\n",
       "      <td>NaN</td>\n",
       "      <td>NaN</td>\n",
       "      <td>NaN</td>\n",
       "      <td>-0.040885</td>\n",
       "      <td>-0.045121</td>\n",
       "    </tr>\n",
       "    <tr>\n",
       "      <th>Q10</th>\n",
       "      <td>NaN</td>\n",
       "      <td>NaN</td>\n",
       "      <td>NaN</td>\n",
       "      <td>NaN</td>\n",
       "      <td>0.013942</td>\n",
       "    </tr>\n",
       "    <tr>\n",
       "      <th>TDWI</th>\n",
       "      <td>NaN</td>\n",
       "      <td>NaN</td>\n",
       "      <td>NaN</td>\n",
       "      <td>NaN</td>\n",
       "      <td>NaN</td>\n",
       "    </tr>\n",
       "  </tbody>\n",
       "</table>\n",
       "</div>"
      ],
      "text/plain": [
       "       TSUM1     TSUM2      SPAN       Q10      TDWI\n",
       "TSUM1    NaN  0.054063  0.082888  0.088671  0.086019\n",
       "TSUM2    NaN       NaN  0.080061  0.043810  0.052251\n",
       "SPAN     NaN       NaN       NaN -0.040885 -0.045121\n",
       "Q10      NaN       NaN       NaN       NaN  0.013942\n",
       "TDWI     NaN       NaN       NaN       NaN       NaN"
      ]
     },
     "execution_count": 11,
     "metadata": {},
     "output_type": "execute_result"
    }
   ],
   "source": [
    "# Show second-order sensitivities\n",
    "second_order = np.array(Si['S2'])\n",
    "pd.DataFrame(second_order, index=problem[\"names\"], columns=problem[\"names\"])"
   ]
  },
  {
   "cell_type": "markdown",
   "metadata": {},
   "source": [
    "or through an image showing the values in the matrix values graphically. From the results, it is clear that the second order interactions are small as all indices have a value < 0.1."
   ]
  },
  {
   "cell_type": "code",
   "execution_count": 12,
   "metadata": {},
   "outputs": [
    {
     "data": {
      "image/png": "[encoded data removed]",
      "text/plain": [
       "<Figure size 576x720 with 2 Axes>"
      ]
     },
     "metadata": {
      "needs_background": "light"
     },
     "output_type": "display_data"
    }
   ],
   "source": [
    "# Visualise second-order sensitivities\n",
    "fig, axes = plt.subplots(figsize=(8,10))\n",
    "aximage = axes.matshow(second_order, vmin=-1.0, vmax=1.0, cmap=\"RdYlBu\")\n",
    "cbar = fig.colorbar(aximage)\n",
    "aximage.axes.set_xticks(range(len(problem[\"names\"])))\n",
    "aximage.axes.set_xticklabels(problem[\"names\"], rotation=45)\n",
    "r = aximage.axes.set_yticklabels([\"\"] + problem[\"names\"])"
   ]
  },
  {
   "cell_type": "markdown",
   "metadata": {},
   "source": [
    "## Explanation\n",
    "The background of the sensitivity of sugarbeet yield to TSUM1 is related to the fact that a larger TSUM1 means that the crop will remain in its vegetative stage for a longer period. Given that there is a fixed harvest date this means that the time available for accumulating sugar in the beet root is shorter and thus simulated yields are lower.  Apparently, the other parameters that are part of the analysis do not have large impact within the selected ranges and thus TSUM1 dominates in terms of sensitivity over the other parameters."
   ]
  },
  {
   "cell_type": "code",
   "execution_count": 13,
   "metadata": {},
   "outputs": [
    {
     "data": {
      "image/png": "[encoded data removed]",
      "text/plain": [
       "<Figure size 720x576 with 1 Axes>"
      ]
     },
     "metadata": {
      "needs_background": "light"
     },
     "output_type": "display_data"
    }
   ],
   "source": [
    "TSUM1_values = list(range(500, 800, 50))\n",
    "results = []\n",
    "for tsum1 in TSUM1_values:\n",
    "    params.clear_override()\n",
    "    params.set_override(\"TSUM1\", tsum1)\n",
    "    wofost = Wofost71_PP(params, wdp, agro)\n",
    "    wofost.run_till_terminate()\n",
    "    r = wofost.get_summary_output()\n",
    "    results.append(r[0][target_variable])\n",
    "\n",
    "df = pd.DataFrame({\"TSUM1\": TSUM1_values,\n",
    "                   target_variable: results}\n",
    "                 ).set_index(\"TSUM1\")\n",
    "r = df.plot(title=\"Impact of TSUM1 on sugar beet yield\", figsize=(10,8))"
   ]
  },
  {
   "cell_type": "code",
   "execution_count": null,
   "metadata": {},
   "outputs": [],
   "source": []
  }
 ],
 "metadata": {
  "kernelspec": {
   "display_name": "Python 3",
   "language": "python",
   "name": "python3"
  },
  "language_info": {
   "codemirror_mode": {
    "name": "ipython",
    "version": 3
   },
   "file_extension": ".py",
   "mimetype": "text/x-python",
   "name": "python",
   "nbconvert_exporter": "python",
   "pygments_lexer": "ipython3",
   "version": "3.7.3"
  }
 },
 "nbformat": 4,
 "nbformat_minor": 1
}
